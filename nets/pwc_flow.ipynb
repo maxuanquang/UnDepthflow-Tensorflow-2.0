{
 "cells": [
  {
   "cell_type": "code",
   "execution_count": 3,
   "metadata": {},
   "outputs": [
    {
     "name": "stdout",
     "output_type": "stream",
     "text": [
      "WARNING:tensorflow:From C:\\Users\\quangmx\\Anaconda3\\envs\\tf2\\lib\\site-packages\\tensorflow\\python\\compat\\v2_compat.py:96: disable_resource_variables (from tensorflow.python.ops.variable_scope) is deprecated and will be removed in a future version.\n",
      "Instructions for updating:\n",
      "non-resource variables are not supported in the long term\n"
     ]
    }
   ],
   "source": [
    "import tensorflow as tf\n",
    "from tensorflow.keras.models import Model\n",
    "from tensorflow.keras.layers import Input, Lambda, Activation, Conv2D, MaxPooling2D, ZeroPadding2D, Reshape, Concatenate\n",
    "from tensorflow.keras.regularizers import l2\n",
    "from optical_flow_warp_old import transformer_old\n",
    "import numpy as np"
   ]
  },
  {
   "cell_type": "code",
   "execution_count": 4,
   "metadata": {},
   "outputs": [],
   "source": [
    "def feature_pyramid_flow(image):\n",
    "    cnv1 = tf.keras.layers.Conv2D(16, (3, 3), strides=2, padding='same', activation=tf.nn.leaky_relu, kernel_regularizer=tf.keras.regularizers.L2(0.0004))(image)\n",
    "    cnv2 = tf.keras.layers.Conv2D(16, (3, 3), strides=1, padding='same', activation=tf.nn.leaky_relu, kernel_regularizer=tf.keras.regularizers.L2(0.0004))(cnv1)\n",
    "    cnv3 = tf.keras.layers.Conv2D(32, (3, 3), strides=2, padding='same', activation=tf.nn.leaky_relu, kernel_regularizer=tf.keras.regularizers.L2(0.0004))(cnv2)\n",
    "    cnv4 = tf.keras.layers.Conv2D(32, (3, 3), strides=1, padding='same', activation=tf.nn.leaky_relu, kernel_regularizer=tf.keras.regularizers.L2(0.0004))(cnv3)\n",
    "    cnv5 = tf.keras.layers.Conv2D(64, (3, 3), strides=2, padding='same', activation=tf.nn.leaky_relu, kernel_regularizer=tf.keras.regularizers.L2(0.0004))(cnv4)\n",
    "    cnv6 = tf.keras.layers.Conv2D(64, (3, 3), strides=1, padding='same', activation=tf.nn.leaky_relu, kernel_regularizer=tf.keras.regularizers.L2(0.0004))(cnv5)\n",
    "    cnv7 = tf.keras.layers.Conv2D(96, (3, 3), strides=2, padding='same', activation=tf.nn.leaky_relu, kernel_regularizer=tf.keras.regularizers.L2(0.0004))(cnv6)\n",
    "    cnv8 = tf.keras.layers.Conv2D(96, (3, 3), strides=1, padding='same', activation=tf.nn.leaky_relu, kernel_regularizer=tf.keras.regularizers.L2(0.0004))(cnv7)\n",
    "    cnv9 = tf.keras.layers.Conv2D(128, (3, 3), strides=2, padding='same', activation=tf.nn.leaky_relu, kernel_regularizer=tf.keras.regularizers.L2(0.0004))(cnv8)\n",
    "    cnv10 = tf.keras.layers.Conv2D(128, (3, 3), strides=1, padding='same', activation=tf.nn.leaky_relu, kernel_regularizer=tf.keras.regularizers.L2(0.0004))(cnv9)\n",
    "    cnv11 = tf.keras.layers.Conv2D(192, (3, 3), strides=2, padding='same', activation=tf.nn.leaky_relu, kernel_regularizer=tf.keras.regularizers.L2(0.0004))(cnv10)\n",
    "    cnv12 = tf.keras.layers.Conv2D(192, (3, 3), strides=1, padding='same', activation=tf.nn.leaky_relu, kernel_regularizer=tf.keras.regularizers.L2(0.0004))(cnv11)\n",
    "\n",
    "    return cnv2, cnv4, cnv6, cnv8, cnv10, cnv12"
   ]
  },
  {
   "cell_type": "code",
   "execution_count": 63,
   "metadata": {},
   "outputs": [],
   "source": [
    "# không dùng\n",
    "def resize_like(inputs, ref):\n",
    "    iH, iW = inputs.get_shape()[1], inputs.get_shape()[2]\n",
    "    rH, rW = ref.get_shape()[1], ref.get_shape()[2]\n",
    "    if iH == rH and iW == rW:\n",
    "        return inputs\n",
    "    return tf.image.resize_bilinear(inputs, [rH.value, rW.value])"
   ]
  },
  {
   "cell_type": "code",
   "execution_count": 64,
   "metadata": {},
   "outputs": [],
   "source": [
    "# không dùng\n",
    "def leaky_relu(_x, alpha=0.1):\n",
    "    pos = tf.nn.relu(_x)\n",
    "    neg = alpha * (_x - abs(_x)) * 0.5\n",
    "\n",
    "    return pos + neg"
   ]
  },
  {
   "cell_type": "code",
   "execution_count": 66,
   "metadata": {},
   "outputs": [],
   "source": [
    "# a = tf.random.uniform(\n",
    "#     (3,500,500,3), minval=0, maxval=None, dtype=tf.dtypes.float32, seed=None, name=None\n",
    "# )\n",
    "# b = tf.random.uniform(\n",
    "#     (3,500,500,3), minval=0, maxval=None, dtype=tf.dtypes.float32, seed=None, name=None\n",
    "# )\n",
    "# a.get_shape()\n",
    "# cnv2, cnv4, cnv6, cnv8, cnv10, cnv12 = feature_pyramid_flow(a,True)"
   ]
  },
  {
   "cell_type": "code",
   "execution_count": 69,
   "metadata": {},
   "outputs": [],
   "source": [
    "def cost_volumn(feature1, feature2, d=4):\n",
    "    batch_size, H, W, feature_num = map(int, feature1.get_shape()[0:4])\n",
    "    feature2 = tf.pad(feature2, [[0, 0], [d, d], [d, d], [0, 0]], \"CONSTANT\")\n",
    "    cv = []\n",
    "    for i in range(2 * d + 1):\n",
    "        for j in range(2 * d + 1):\n",
    "            cv.append(\n",
    "                tf.math.reduce_mean(\n",
    "                    feature1 * feature2[:, i:(i + H), j:(j + W), :],\n",
    "                    axis=3,\n",
    "                    keepdims=True\n",
    "                ))\n",
    "    return tf.concat(cv, axis=3)"
   ]
  },
  {
   "cell_type": "code",
   "execution_count": 70,
   "metadata": {},
   "outputs": [],
   "source": [
    "def optical_flow_decoder_dc(inputs, level):\n",
    "    cnv1 = tf.keras.layers.Conv2D(128, (3, 3), strides=1, padding='same', activation=tf.nn.leaky_relu, kernel_regularizer=tf.keras.regularizers.L2(0.0004))(inputs)\n",
    "    cnv2 = tf.keras.layers.Conv2D(128, (3, 3), strides=1, padding='same', activation=tf.nn.leaky_relu, kernel_regularizer=tf.keras.regularizers.L2(0.0004))(cnv1)\n",
    "    cnv3 = tf.keras.layers.Conv2D(96, (3, 3), strides=1, padding='same', activation=tf.nn.leaky_relu, kernel_regularizer=tf.keras.regularizers.L2(0.0004))(tf.concat([cnv1, cnv2], axis=3))\n",
    "    cnv4 = tf.keras.layers.Conv2D(64, (3, 3), strides=1, padding='same', activation=tf.nn.leaky_relu, kernel_regularizer=tf.keras.regularizers.L2(0.0004))(tf.concat([cnv2, cnv3], axis=3))\n",
    "    cnv5 = tf.keras.layers.Conv2D(32, (3, 3), strides=1, padding='same', activation=tf.nn.leaky_relu, kernel_regularizer=tf.keras.regularizers.L2(0.0004))(tf.concat([cnv3, cnv4], axis=3))                                                                                                                                       \n",
    "    flow = tf.keras.layers.Conv2D(2, (3, 3), strides=1, padding='same', activation=None, kernel_regularizer=tf.keras.regularizers.L2(0.0004))(tf.concat([cnv4, cnv5], axis=3))                                                                                                                                       \n",
    "\n",
    "    return flow, cnv5"
   ]
  },
  {
   "cell_type": "code",
   "execution_count": 5,
   "metadata": {},
   "outputs": [],
   "source": [
    "def context_net(inputs):\n",
    "#     with slim.arg_scope(\n",
    "#         [slim.conv2d, slim.conv2d_transpose],\n",
    "#             weights_regularizer=slim.l2_regularizer(0.0004),\n",
    "#             activation_fn=leaky_relu):\n",
    "#         cnv1 = slim.conv2d(inputs, 128, [3, 3], rate=1, scope=\"cnv1_cn\")\n",
    "        cnv1 = tf.keras.layers.Conv2D(128, (3, 3), padding='same', strides=1, activation=tf.nn.leaky_relu, kernel_regularizer=tf.keras.regularizers.L2(0.0004),dilation_rate=(1, 1))(inputs)\n",
    "#         cnv2 = slim.conv2d(cnv1, 128, [3, 3], rate=2, scope=\"cnv2_cn\")\n",
    "        cnv2 = tf.keras.layers.Conv2D(128, (3, 3), padding='same', strides=1, activation=tf.nn.leaky_relu, kernel_regularizer=tf.keras.regularizers.L2(0.0004),dilation_rate=(2, 2))(cnv1)\n",
    "#         cnv3 = slim.conv2d(cnv2, 128, [3, 3], rate=4, scope=\"cnv3_cn\")\n",
    "        cnv3 = tf.keras.layers.Conv2D(128, (3, 3), padding='same', strides=1, activation=tf.nn.leaky_relu, kernel_regularizer=tf.keras.regularizers.L2(0.0004),dilation_rate=(4, 4))(cnv2)\n",
    "#         cnv4 = slim.conv2d(cnv3, 96, [3, 3], rate=8, scope=\"cnv4_cn\")\n",
    "        cnv4 = tf.keras.layers.Conv2D(96, (3, 3), padding='same', strides=1, activation=tf.nn.leaky_relu, kernel_regularizer=tf.keras.regularizers.L2(0.0004),dilation_rate=(8, 8))(cnv3)\n",
    "#         cnv5 = slim.conv2d(cnv4, 64, [3, 3], rate=16, scope=\"cnv5_cn\")\n",
    "        cnv5 = tf.keras.layers.Conv2D(64, (3, 3), padding='same', strides=1, activation=tf.nn.leaky_relu, kernel_regularizer=tf.keras.regularizers.L2(0.0004),dilation_rate=(16, 16))(cnv4)\n",
    "#         cnv6 = slim.conv2d(cnv5, 32, [3, 3], rate=1, scope=\"cnv6_cn\")\n",
    "        cnv6 = tf.keras.layers.Conv2D(32, (3, 3), padding='same', strides=1, activation=tf.nn.leaky_relu, kernel_regularizer=tf.keras.regularizers.L2(0.0004),dilation_rate=(1, 1))(cnv5)\n",
    "\n",
    "#         flow = slim.conv2d(cnv6, 2, [3, 3], rate=1, scope=\"cnv7_cn\", activation_fn=None)\n",
    "        flow = tf.keras.layers.Conv2D(2, (3, 3), padding='same', strides=1, activation=None, kernel_regularizer=tf.keras.regularizers.L2(0.0004),dilation_rate=(1, 1))(cnv6)\n",
    "        return flow"
   ]
  },
  {
   "cell_type": "code",
   "execution_count": 74,
   "metadata": {},
   "outputs": [],
   "source": [
    "def construct_model_pwc_full(image1, image2, feature1, feature2):\n",
    "# with tf.variable_scope('flow_net'):\n",
    "    batch_size, H, W, color_channels = map(int, image1.get_shape()[0:4])\n",
    "\n",
    "    #############################\n",
    "    feature1_1, feature1_2, feature1_3, feature1_4, feature1_5, feature1_6 = feature1\n",
    "    feature2_1, feature2_2, feature2_3, feature2_4, feature2_5, feature2_6 = feature2\n",
    "\n",
    "    cv6 = cost_volumn(feature1_6, feature2_6, d=4)\n",
    "    flow6, _ = optical_flow_decoder_dc(cv6, level=6)\n",
    "\n",
    "    flow6to5 = tf.compat.v1.image.resize_bilinear(flow6,\n",
    "                                        [H // (2**5), (W // (2**5))]) * 2.0\n",
    "    \n",
    "    feature2_5w = transformer_old(feature2_5, flow6to5, [H // 32, W // 32])\n",
    "    cv5 = cost_volumn(feature1_5, feature2_5w, d=4)\n",
    "    flow5, _ = optical_flow_decoder_dc(\n",
    "        tf.concat(\n",
    "            [cv5, feature1_5, flow6to5], axis=3), level=5)\n",
    "    flow5 = flow5 + flow6to5\n",
    "\n",
    "    flow5to4 = tf.compat.v1.image.resize_bilinear(flow5,\n",
    "                                        [H // (2**4), (W // (2**4))]) * 2.0\n",
    "    feature2_4w = transformer_old(feature2_4, flow5to4, [H // 16, W // 16])\n",
    "    cv4 = cost_volumn(feature1_4, feature2_4w, d=4)\n",
    "    flow4, _ = optical_flow_decoder_dc(\n",
    "        tf.concat(\n",
    "            [cv4, feature1_4, flow5to4], axis=3), level=4)\n",
    "    flow4 = flow4 + flow5to4\n",
    "\n",
    "    flow4to3 = tf.compat.v1.image.resize_bilinear(flow4,\n",
    "                                        [H // (2**3), (W // (2**3))]) * 2.0\n",
    "    feature2_3w = transformer_old(feature2_3, flow4to3, [H // 8, W // 8])\n",
    "    cv3 = cost_volumn(feature1_3, feature2_3w, d=4)\n",
    "    flow3, _ = optical_flow_decoder_dc(\n",
    "        tf.concat(\n",
    "            [cv3, feature1_3, flow4to3], axis=3), level=3)\n",
    "    flow3 = flow3 + flow4to3\n",
    "\n",
    "    flow3to2 = tf.compat.v1.image.resize_bilinear(flow3,\n",
    "                                        [H // (2**2), (W // (2**2))]) * 2.0\n",
    "    feature2_2w = transformer_old(feature2_2, flow3to2, [H // 4, W // 4])\n",
    "    cv2 = cost_volumn(feature1_2, feature2_2w, d=4)\n",
    "    flow2_raw, f2 = optical_flow_decoder_dc(\n",
    "        tf.concat(\n",
    "            [cv2, feature1_2, flow3to2], axis=3), level=2)\n",
    "    flow2_raw = flow2_raw + flow3to2\n",
    "\n",
    "    flow2 = context_net(tf.concat([flow2_raw, f2], axis=3)) + flow2_raw\n",
    "\n",
    "    flow0_enlarge = tf.compat.v1.image.resize_bilinear(flow2 * 4.0, [H, W])\n",
    "    flow1_enlarge = tf.compat.v1.image.resize_bilinear(flow3 * 4.0, [H // 2, W // 2])\n",
    "    flow2_enlarge = tf.compat.v1.image.resize_bilinear(flow4 * 4.0, [H // 4, W // 4])\n",
    "    flow3_enlarge = tf.compat.v1.image.resize_bilinear(flow5 * 4.0, [H // 8, W // 8])\n",
    "\n",
    "    return flow0_enlarge, flow1_enlarge, flow2_enlarge, flow3_enlarge"
   ]
  }
 ],
 "metadata": {
  "kernelspec": {
   "display_name": "tf2",
   "language": "python",
   "name": "tf2"
  },
  "language_info": {
   "codemirror_mode": {
    "name": "ipython",
    "version": 3
   },
   "file_extension": ".py",
   "mimetype": "text/x-python",
   "name": "python",
   "nbconvert_exporter": "python",
   "pygments_lexer": "ipython3",
   "version": "3.8.5"
  }
 },
 "nbformat": 4,
 "nbformat_minor": 4
}
